{
 "cells": [
  {
   "cell_type": "code",
   "execution_count": 1,
   "id": "16b51251",
   "metadata": {},
   "outputs": [],
   "source": [
    "import numpy as np\n",
    "import pandas as pd\n",
    "import matplotlib.pyplot as plt\n",
    "import tensorflow as tf\n",
    "from tensorflow import keras\n",
    "from tensorflow.keras.models import Sequential\n",
    "from tensorflow.keras.layers import Dense, Flatten, LSTM"
   ]
  },
  {
   "cell_type": "code",
   "execution_count": 2,
   "id": "3fd8e6ad",
   "metadata": {},
   "outputs": [],
   "source": [
    "import yfinance as yf"
   ]
  },
  {
   "cell_type": "code",
   "execution_count": 3,
   "id": "c354ffba",
   "metadata": {},
   "outputs": [
    {
     "name": "stdout",
     "output_type": "stream",
     "text": [
      "[*********************100%***********************]  1 of 1 completed\n"
     ]
    }
   ],
   "source": [
    "dataset = yf.download('^NSEI','2010-01-01','2019-12-30')"
   ]
  },
  {
   "cell_type": "code",
   "execution_count": 4,
   "id": "73993f7b",
   "metadata": {},
   "outputs": [
    {
     "data": {
      "text/html": [
       "<div>\n",
       "<style scoped>\n",
       "    .dataframe tbody tr th:only-of-type {\n",
       "        vertical-align: middle;\n",
       "    }\n",
       "\n",
       "    .dataframe tbody tr th {\n",
       "        vertical-align: top;\n",
       "    }\n",
       "\n",
       "    .dataframe thead th {\n",
       "        text-align: right;\n",
       "    }\n",
       "</style>\n",
       "<table border=\"1\" class=\"dataframe\">\n",
       "  <thead>\n",
       "    <tr style=\"text-align: right;\">\n",
       "      <th></th>\n",
       "      <th>Open</th>\n",
       "      <th>High</th>\n",
       "      <th>Low</th>\n",
       "      <th>Close</th>\n",
       "      <th>Adj Close</th>\n",
       "      <th>Volume</th>\n",
       "    </tr>\n",
       "    <tr>\n",
       "      <th>Date</th>\n",
       "      <th></th>\n",
       "      <th></th>\n",
       "      <th></th>\n",
       "      <th></th>\n",
       "      <th></th>\n",
       "      <th></th>\n",
       "    </tr>\n",
       "  </thead>\n",
       "  <tbody>\n",
       "    <tr>\n",
       "      <th>2010-01-04</th>\n",
       "      <td>5200.899902</td>\n",
       "      <td>5238.450195</td>\n",
       "      <td>5167.100098</td>\n",
       "      <td>5232.200195</td>\n",
       "      <td>5232.200195</td>\n",
       "      <td>0</td>\n",
       "    </tr>\n",
       "    <tr>\n",
       "      <th>2010-01-05</th>\n",
       "      <td>5277.149902</td>\n",
       "      <td>5288.350098</td>\n",
       "      <td>5242.399902</td>\n",
       "      <td>5277.899902</td>\n",
       "      <td>5277.899902</td>\n",
       "      <td>0</td>\n",
       "    </tr>\n",
       "    <tr>\n",
       "      <th>2010-01-06</th>\n",
       "      <td>5278.149902</td>\n",
       "      <td>5310.850098</td>\n",
       "      <td>5260.049805</td>\n",
       "      <td>5281.799805</td>\n",
       "      <td>5281.799805</td>\n",
       "      <td>0</td>\n",
       "    </tr>\n",
       "    <tr>\n",
       "      <th>2010-01-07</th>\n",
       "      <td>5281.799805</td>\n",
       "      <td>5302.549805</td>\n",
       "      <td>5244.750000</td>\n",
       "      <td>5263.100098</td>\n",
       "      <td>5263.100098</td>\n",
       "      <td>0</td>\n",
       "    </tr>\n",
       "    <tr>\n",
       "      <th>2010-01-08</th>\n",
       "      <td>5264.250000</td>\n",
       "      <td>5276.750000</td>\n",
       "      <td>5234.700195</td>\n",
       "      <td>5244.750000</td>\n",
       "      <td>5244.750000</td>\n",
       "      <td>0</td>\n",
       "    </tr>\n",
       "    <tr>\n",
       "      <th>...</th>\n",
       "      <td>...</td>\n",
       "      <td>...</td>\n",
       "      <td>...</td>\n",
       "      <td>...</td>\n",
       "      <td>...</td>\n",
       "      <td>...</td>\n",
       "    </tr>\n",
       "    <tr>\n",
       "      <th>2019-12-20</th>\n",
       "      <td>12266.450195</td>\n",
       "      <td>12293.900391</td>\n",
       "      <td>12252.750000</td>\n",
       "      <td>12271.799805</td>\n",
       "      <td>12271.799805</td>\n",
       "      <td>810700</td>\n",
       "    </tr>\n",
       "    <tr>\n",
       "      <th>2019-12-23</th>\n",
       "      <td>12235.450195</td>\n",
       "      <td>12287.150391</td>\n",
       "      <td>12213.250000</td>\n",
       "      <td>12262.750000</td>\n",
       "      <td>12262.750000</td>\n",
       "      <td>604800</td>\n",
       "    </tr>\n",
       "    <tr>\n",
       "      <th>2019-12-24</th>\n",
       "      <td>12269.250000</td>\n",
       "      <td>12283.700195</td>\n",
       "      <td>12202.099609</td>\n",
       "      <td>12214.549805</td>\n",
       "      <td>12214.549805</td>\n",
       "      <td>470300</td>\n",
       "    </tr>\n",
       "    <tr>\n",
       "      <th>2019-12-26</th>\n",
       "      <td>12211.849609</td>\n",
       "      <td>12221.549805</td>\n",
       "      <td>12118.849609</td>\n",
       "      <td>12126.549805</td>\n",
       "      <td>12126.549805</td>\n",
       "      <td>520300</td>\n",
       "    </tr>\n",
       "    <tr>\n",
       "      <th>2019-12-27</th>\n",
       "      <td>12172.900391</td>\n",
       "      <td>12258.450195</td>\n",
       "      <td>12157.900391</td>\n",
       "      <td>12245.799805</td>\n",
       "      <td>12245.799805</td>\n",
       "      <td>383800</td>\n",
       "    </tr>\n",
       "  </tbody>\n",
       "</table>\n",
       "<p>2441 rows × 6 columns</p>\n",
       "</div>"
      ],
      "text/plain": [
       "                    Open          High           Low         Close  \\\n",
       "Date                                                                 \n",
       "2010-01-04   5200.899902   5238.450195   5167.100098   5232.200195   \n",
       "2010-01-05   5277.149902   5288.350098   5242.399902   5277.899902   \n",
       "2010-01-06   5278.149902   5310.850098   5260.049805   5281.799805   \n",
       "2010-01-07   5281.799805   5302.549805   5244.750000   5263.100098   \n",
       "2010-01-08   5264.250000   5276.750000   5234.700195   5244.750000   \n",
       "...                  ...           ...           ...           ...   \n",
       "2019-12-20  12266.450195  12293.900391  12252.750000  12271.799805   \n",
       "2019-12-23  12235.450195  12287.150391  12213.250000  12262.750000   \n",
       "2019-12-24  12269.250000  12283.700195  12202.099609  12214.549805   \n",
       "2019-12-26  12211.849609  12221.549805  12118.849609  12126.549805   \n",
       "2019-12-27  12172.900391  12258.450195  12157.900391  12245.799805   \n",
       "\n",
       "               Adj Close  Volume  \n",
       "Date                              \n",
       "2010-01-04   5232.200195       0  \n",
       "2010-01-05   5277.899902       0  \n",
       "2010-01-06   5281.799805       0  \n",
       "2010-01-07   5263.100098       0  \n",
       "2010-01-08   5244.750000       0  \n",
       "...                  ...     ...  \n",
       "2019-12-20  12271.799805  810700  \n",
       "2019-12-23  12262.750000  604800  \n",
       "2019-12-24  12214.549805  470300  \n",
       "2019-12-26  12126.549805  520300  \n",
       "2019-12-27  12245.799805  383800  \n",
       "\n",
       "[2441 rows x 6 columns]"
      ]
     },
     "execution_count": 4,
     "metadata": {},
     "output_type": "execute_result"
    }
   ],
   "source": [
    "dataset"
   ]
  },
  {
   "cell_type": "code",
   "execution_count": 5,
   "id": "b06aa772",
   "metadata": {},
   "outputs": [],
   "source": [
    "data = dataset['Close']"
   ]
  },
  {
   "cell_type": "code",
   "execution_count": 6,
   "id": "1b3e495d",
   "metadata": {},
   "outputs": [
    {
     "data": {
      "text/plain": [
       "Date\n",
       "2010-01-04     5232.200195\n",
       "2010-01-05     5277.899902\n",
       "2010-01-06     5281.799805\n",
       "2010-01-07     5263.100098\n",
       "2010-01-08     5244.750000\n",
       "                  ...     \n",
       "2019-12-20    12271.799805\n",
       "2019-12-23    12262.750000\n",
       "2019-12-24    12214.549805\n",
       "2019-12-26    12126.549805\n",
       "2019-12-27    12245.799805\n",
       "Name: Close, Length: 2441, dtype: float64"
      ]
     },
     "execution_count": 6,
     "metadata": {},
     "output_type": "execute_result"
    }
   ],
   "source": [
    "data"
   ]
  },
  {
   "cell_type": "code",
   "execution_count": 7,
   "id": "6742b433",
   "metadata": {},
   "outputs": [
    {
     "data": {
      "text/plain": [
       "[<matplotlib.lines.Line2D at 0x23cd8a54bb0>]"
      ]
     },
     "execution_count": 7,
     "metadata": {},
     "output_type": "execute_result"
    },
    {
     "data": {
      "image/png": "[encoded data removed]",
      "text/plain": [
       "<Figure size 640x480 with 1 Axes>"
      ]
     },
     "metadata": {},
     "output_type": "display_data"
    }
   ],
   "source": [
    "plt.plot(data)"
   ]
  },
  {
   "cell_type": "code",
   "execution_count": 8,
   "id": "fa778e80",
   "metadata": {},
   "outputs": [],
   "source": [
    "from sklearn.preprocessing import MinMaxScaler\n",
    "\n",
    "scaler = MinMaxScaler(feature_range=(0, 1))\n",
    "scaled_data = scaler.fit_transform(data.values.reshape(-1, 1))"
   ]
  },
  {
   "cell_type": "code",
   "execution_count": 9,
   "id": "d01e4f04",
   "metadata": {},
   "outputs": [
    {
     "data": {
      "text/plain": [
       "array([[0.08903153],\n",
       "       [0.09494536],\n",
       "       [0.09545003],\n",
       "       ...,\n",
       "       [0.99259149],\n",
       "       [0.98120374],\n",
       "       [0.99663544]])"
      ]
     },
     "execution_count": 9,
     "metadata": {},
     "output_type": "execute_result"
    }
   ],
   "source": [
    "scaled_data"
   ]
  },
  {
   "cell_type": "code",
   "execution_count": 10,
   "id": "9e90bb37",
   "metadata": {},
   "outputs": [
    {
     "data": {
      "text/plain": [
       "(1576, 865)"
      ]
     },
     "execution_count": 10,
     "metadata": {},
     "output_type": "execute_result"
    }
   ],
   "source": [
    "# date_split = '2016-06-15' - 1576\n",
    "\n",
    "train_data = scaled_data[:1576]\n",
    "test_data = scaled_data[1576:]\n",
    "len(train_data), len(test_data)"
   ]
  },
  {
   "cell_type": "code",
   "execution_count": 11,
   "id": "98d9ce6b",
   "metadata": {},
   "outputs": [
    {
     "data": {
      "text/plain": [
       "[<matplotlib.lines.Line2D at 0x23cdc5cca90>]"
      ]
     },
     "execution_count": 11,
     "metadata": {},
     "output_type": "execute_result"
    },
    {
     "data": {
      "image/png": "[encoded data removed]",
      "text/plain": [
       "<Figure size 640x480 with 1 Axes>"
      ]
     },
     "metadata": {},
     "output_type": "display_data"
    }
   ],
   "source": [
    "plt.plot(scaled_data)\n",
    "plt.plot(train_data)"
   ]
  },
  {
   "cell_type": "code",
   "execution_count": 12,
   "id": "ef33734a",
   "metadata": {},
   "outputs": [],
   "source": [
    "def sequence(data, sq_lnt):\n",
    "    x, y = [], []\n",
    "    for i in range(0,len(data) - sq_lnt):\n",
    "        x.append(data[i:i+sq_lnt])\n",
    "        y.append(data[i+sq_lnt])\n",
    "    return np.array(x), np.array(y)\n"
   ]
  },
  {
   "cell_type": "code",
   "execution_count": 13,
   "id": "02574383",
   "metadata": {},
   "outputs": [],
   "source": [
    "sq_lnt = 30"
   ]
  },
  {
   "cell_type": "code",
   "execution_count": 14,
   "id": "7dd03792",
   "metadata": {},
   "outputs": [
    {
     "data": {
      "text/plain": [
       "(1576, 1)"
      ]
     },
     "execution_count": 14,
     "metadata": {},
     "output_type": "execute_result"
    }
   ],
   "source": [
    "train_data.shape"
   ]
  },
  {
   "cell_type": "code",
   "execution_count": 15,
   "id": "ab56e190",
   "metadata": {},
   "outputs": [],
   "source": [
    "x_train, y_train = sequence(train_data, sq_lnt)\n",
    "x_test, y_test = sequence(test_data, sq_lnt)"
   ]
  },
  {
   "cell_type": "code",
   "execution_count": 65,
   "id": "c96c8543",
   "metadata": {},
   "outputs": [
    {
     "data": {
      "text/plain": [
       "(1546, 30, 1)"
      ]
     },
     "execution_count": 65,
     "metadata": {},
     "output_type": "execute_result"
    }
   ],
   "source": [
    "x_train.shape"
   ]
  },
  {
   "cell_type": "code",
   "execution_count": 17,
   "id": "b580489e",
   "metadata": {},
   "outputs": [],
   "source": [
    "model = Sequential()\n",
    "model.add(LSTM(64, return_sequences=True, input_shape=(sq_lnt,1)))\n",
    "model.add(LSTM(64, return_sequences=True))\n",
    "model.add(LSTM(64))\n",
    "model.add(Dense(1))"
   ]
  },
  {
   "cell_type": "code",
   "execution_count": 18,
   "id": "e91830f9",
   "metadata": {},
   "outputs": [],
   "source": [
    "model.compile(optimizer='adam', loss='mean_squared_error')"
   ]
  },
  {
   "cell_type": "code",
   "execution_count": 19,
   "id": "a40d5ec5",
   "metadata": {},
   "outputs": [
    {
     "name": "stdout",
     "output_type": "stream",
     "text": [
      "Epoch 1/20\n",
      "49/49 [==============================] - 6s 27ms/step - loss: 0.0072\n",
      "Epoch 2/20\n",
      "49/49 [==============================] - 1s 25ms/step - loss: 7.1408e-04\n",
      "Epoch 3/20\n",
      "49/49 [==============================] - 1s 26ms/step - loss: 6.3024e-04\n",
      "Epoch 4/20\n",
      "49/49 [==============================] - 1s 28ms/step - loss: 6.1279e-04\n",
      "Epoch 5/20\n",
      "49/49 [==============================] - 2s 36ms/step - loss: 5.6577e-04\n",
      "Epoch 6/20\n",
      "49/49 [==============================] - 3s 53ms/step - loss: 5.5235e-04\n",
      "Epoch 7/20\n",
      "49/49 [==============================] - 2s 36ms/step - loss: 5.6921e-04\n",
      "Epoch 8/20\n",
      "49/49 [==============================] - 2s 32ms/step - loss: 4.7214e-04\n",
      "Epoch 9/20\n",
      "49/49 [==============================] - 1s 26ms/step - loss: 5.1494e-04\n",
      "Epoch 10/20\n",
      "49/49 [==============================] - 1s 26ms/step - loss: 4.4216e-04\n",
      "Epoch 11/20\n",
      "49/49 [==============================] - 2s 41ms/step - loss: 4.5941e-04\n",
      "Epoch 12/20\n",
      "49/49 [==============================] - 2s 31ms/step - loss: 4.4090e-04\n",
      "Epoch 13/20\n",
      "49/49 [==============================] - 1s 26ms/step - loss: 3.7722e-04\n",
      "Epoch 14/20\n",
      "49/49 [==============================] - 1s 28ms/step - loss: 3.5194e-04\n",
      "Epoch 15/20\n",
      "49/49 [==============================] - 2s 32ms/step - loss: 3.5991e-04\n",
      "Epoch 16/20\n",
      "49/49 [==============================] - 3s 54ms/step - loss: 3.0448e-04\n",
      "Epoch 17/20\n",
      "49/49 [==============================] - 2s 35ms/step - loss: 2.9144e-04\n",
      "Epoch 18/20\n",
      "49/49 [==============================] - 2s 32ms/step - loss: 2.8130e-04\n",
      "Epoch 19/20\n",
      "49/49 [==============================] - 1s 26ms/step - loss: 3.2738e-04\n",
      "Epoch 20/20\n",
      "49/49 [==============================] - 1s 26ms/step - loss: 2.6664e-04\n"
     ]
    },
    {
     "data": {
      "text/plain": [
       "<keras.callbacks.History at 0x23cdd943a60>"
      ]
     },
     "execution_count": 19,
     "metadata": {},
     "output_type": "execute_result"
    }
   ],
   "source": [
    "model.fit(x_train, y_train, epochs=20, batch_size=32)"
   ]
  },
  {
   "cell_type": "code",
   "execution_count": 20,
   "id": "4d99ea9c",
   "metadata": {},
   "outputs": [
    {
     "name": "stdout",
     "output_type": "stream",
     "text": [
      "Training loss: 0.00022965141397435218\n",
      "Testing loss: 0.0007523218519054353\n"
     ]
    }
   ],
   "source": [
    "train_loss = model.evaluate(x_train, y_train, verbose=0)\n",
    "test_loss = model.evaluate(x_test, y_test, verbose=0)\n",
    "print(f'Training loss: {train_loss}')\n",
    "print(f'Testing loss: {test_loss}')"
   ]
  },
  {
   "cell_type": "code",
   "execution_count": 21,
   "id": "575e769b",
   "metadata": {},
   "outputs": [
    {
     "name": "stdout",
     "output_type": "stream",
     "text": [
      "49/49 [==============================] - 2s 11ms/step\n",
      "27/27 [==============================] - 0s 10ms/step\n"
     ]
    }
   ],
   "source": [
    "train_pred = model.predict(x_train)\n",
    "test_pred = model.predict(x_test)"
   ]
  },
  {
   "cell_type": "code",
   "execution_count": 22,
   "id": "0984550f",
   "metadata": {},
   "outputs": [],
   "source": [
    "train_pred = scaler.inverse_transform(train_pred)\n",
    "test_pred = scaler.inverse_transform(test_pred)"
   ]
  },
  {
   "cell_type": "code",
   "execution_count": 23,
   "id": "46c77e92",
   "metadata": {},
   "outputs": [
    {
     "data": {
      "text/plain": [
       "(1546, 30, 1)"
      ]
     },
     "execution_count": 23,
     "metadata": {},
     "output_type": "execute_result"
    }
   ],
   "source": [
    "x_train.shape"
   ]
  },
  {
   "cell_type": "code",
   "execution_count": 102,
   "id": "7834362d",
   "metadata": {},
   "outputs": [],
   "source": [
    "df1 = pd.DataFrame(train_pred)\n",
    "df2 = pd.DataFrame(test_pred)\n",
    "dataf = data.reset_index()\n",
    "dataf = dataf.drop(dataf.index[2381:])\n",
    "df = pd.concat(([df1, df2]), ignore_index = True)\n",
    "df['date'] = dataf['Date']"
   ]
  },
  {
   "cell_type": "code",
   "execution_count": 104,
   "id": "7d934046",
   "metadata": {},
   "outputs": [
    {
     "data": {
      "text/html": [
       "<div>\n",
       "<style scoped>\n",
       "    .dataframe tbody tr th:only-of-type {\n",
       "        vertical-align: middle;\n",
       "    }\n",
       "\n",
       "    .dataframe tbody tr th {\n",
       "        vertical-align: top;\n",
       "    }\n",
       "\n",
       "    .dataframe thead th {\n",
       "        text-align: right;\n",
       "    }\n",
       "</style>\n",
       "<table border=\"1\" class=\"dataframe\">\n",
       "  <thead>\n",
       "    <tr style=\"text-align: right;\">\n",
       "      <th></th>\n",
       "      <th>Date</th>\n",
       "      <th>Close</th>\n",
       "    </tr>\n",
       "  </thead>\n",
       "  <tbody>\n",
       "    <tr>\n",
       "      <th>0</th>\n",
       "      <td>2010-01-04</td>\n",
       "      <td>5232.200195</td>\n",
       "    </tr>\n",
       "    <tr>\n",
       "      <th>1</th>\n",
       "      <td>2010-01-05</td>\n",
       "      <td>5277.899902</td>\n",
       "    </tr>\n",
       "    <tr>\n",
       "      <th>2</th>\n",
       "      <td>2010-01-06</td>\n",
       "      <td>5281.799805</td>\n",
       "    </tr>\n",
       "    <tr>\n",
       "      <th>3</th>\n",
       "      <td>2010-01-07</td>\n",
       "      <td>5263.100098</td>\n",
       "    </tr>\n",
       "    <tr>\n",
       "      <th>4</th>\n",
       "      <td>2010-01-08</td>\n",
       "      <td>5244.750000</td>\n",
       "    </tr>\n",
       "    <tr>\n",
       "      <th>...</th>\n",
       "      <td>...</td>\n",
       "      <td>...</td>\n",
       "    </tr>\n",
       "    <tr>\n",
       "      <th>2376</th>\n",
       "      <td>2019-09-20</td>\n",
       "      <td>11274.200195</td>\n",
       "    </tr>\n",
       "    <tr>\n",
       "      <th>2377</th>\n",
       "      <td>2019-09-23</td>\n",
       "      <td>11600.200195</td>\n",
       "    </tr>\n",
       "    <tr>\n",
       "      <th>2378</th>\n",
       "      <td>2019-09-24</td>\n",
       "      <td>11588.200195</td>\n",
       "    </tr>\n",
       "    <tr>\n",
       "      <th>2379</th>\n",
       "      <td>2019-09-25</td>\n",
       "      <td>11440.200195</td>\n",
       "    </tr>\n",
       "    <tr>\n",
       "      <th>2380</th>\n",
       "      <td>2019-09-26</td>\n",
       "      <td>11571.200195</td>\n",
       "    </tr>\n",
       "  </tbody>\n",
       "</table>\n",
       "<p>2381 rows × 2 columns</p>\n",
       "</div>"
      ],
      "text/plain": [
       "           Date         Close\n",
       "0    2010-01-04   5232.200195\n",
       "1    2010-01-05   5277.899902\n",
       "2    2010-01-06   5281.799805\n",
       "3    2010-01-07   5263.100098\n",
       "4    2010-01-08   5244.750000\n",
       "...         ...           ...\n",
       "2376 2019-09-20  11274.200195\n",
       "2377 2019-09-23  11600.200195\n",
       "2378 2019-09-24  11588.200195\n",
       "2379 2019-09-25  11440.200195\n",
       "2380 2019-09-26  11571.200195\n",
       "\n",
       "[2381 rows x 2 columns]"
      ]
     },
     "execution_count": 104,
     "metadata": {},
     "output_type": "execute_result"
    }
   ],
   "source": [
    "dataf"
   ]
  },
  {
   "cell_type": "code",
   "execution_count": 105,
   "id": "d6a0ae80",
   "metadata": {},
   "outputs": [],
   "source": [
    "df = df.set_index('date')"
   ]
  },
  {
   "cell_type": "code",
   "execution_count": 106,
   "id": "82ca1207",
   "metadata": {},
   "outputs": [
    {
     "data": {
      "text/plain": [
       "<matplotlib.legend.Legend at 0x23cea28c340>"
      ]
     },
     "execution_count": 106,
     "metadata": {},
     "output_type": "execute_result"
    },
    {
     "data": {
      "image/png": "[encoded data removed]",
      "text/plain": [
       "<Figure size 640x480 with 1 Axes>"
      ]
     },
     "metadata": {},
     "output_type": "display_data"
    }
   ],
   "source": [
    "plt.plot(data, label = 'Original data')\n",
    "plt.plot(df[:1546], label = 'Train data predictions')\n",
    "plt.plot(df[1546:], label = 'Test data predictions')\n",
    "plt.xlabel('Date')\n",
    "plt.ylabel('Price')\n",
    "plt.legend()"
   ]
  },
  {
   "cell_type": "code",
   "execution_count": null,
   "id": "ea57366d",
   "metadata": {},
   "outputs": [],
   "source": []
  },
  {
   "cell_type": "code",
   "execution_count": null,
   "id": "8ea07bd7",
   "metadata": {},
   "outputs": [],
   "source": []
  },
  {
   "cell_type": "code",
   "execution_count": null,
   "id": "3cbf7dd5",
   "metadata": {},
   "outputs": [],
   "source": []
  }
 ],
 "metadata": {
  "kernelspec": {
   "display_name": "Python 3 (ipykernel)",
   "language": "python",
   "name": "python3"
  },
  "language_info": {
   "codemirror_mode": {
    "name": "ipython",
    "version": 3
   },
   "file_extension": ".py",
   "mimetype": "text/x-python",
   "name": "python",
   "nbconvert_exporter": "python",
   "pygments_lexer": "ipython3",
   "version": "3.10.9"
  }
 },
 "nbformat": 4,
 "nbformat_minor": 5
}
